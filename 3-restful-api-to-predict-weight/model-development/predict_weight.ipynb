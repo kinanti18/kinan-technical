{
 "cells": [
  {
   "cell_type": "markdown",
   "id": "535940fd",
   "metadata": {},
   "source": [
    "# Load Dataset"
   ]
  },
  {
   "cell_type": "code",
   "execution_count": 2,
   "id": "80ab1192",
   "metadata": {},
   "outputs": [],
   "source": [
    "import pandas as pd \n",
    "dataset = pd.read_csv(\"datasets/weight-height.csv\")"
   ]
  },
  {
   "cell_type": "markdown",
   "id": "43e645a8",
   "metadata": {},
   "source": [
    "# Analyze Data "
   ]
  },
  {
   "cell_type": "code",
   "execution_count": 3,
   "id": "6ca181c5",
   "metadata": {},
   "outputs": [
    {
     "name": "stdout",
     "output_type": "stream",
     "text": [
      "<class 'pandas.core.frame.DataFrame'>\n",
      "RangeIndex: 10000 entries, 0 to 9999\n",
      "Data columns (total 3 columns):\n",
      " #   Column  Non-Null Count  Dtype  \n",
      "---  ------  --------------  -----  \n",
      " 0   Gender  10000 non-null  object \n",
      " 1   Height  10000 non-null  float64\n",
      " 2   Weight  10000 non-null  float64\n",
      "dtypes: float64(2), object(1)\n",
      "memory usage: 234.5+ KB\n"
     ]
    },
    {
     "data": {
      "text/plain": [
       "Gender    0\n",
       "Height    0\n",
       "Weight    0\n",
       "dtype: int64"
      ]
     },
     "execution_count": 3,
     "metadata": {},
     "output_type": "execute_result"
    }
   ],
   "source": [
    "dataset.info()\n",
    "dataset.describe()\n",
    "dataset.isnull().sum()"
   ]
  },
  {
   "cell_type": "markdown",
   "id": "d16a6347",
   "metadata": {},
   "source": [
    "# Convert Gender to number"
   ]
  },
  {
   "cell_type": "code",
   "execution_count": 4,
   "id": "32ef5158",
   "metadata": {},
   "outputs": [],
   "source": [
    "X = dataset.iloc[:, :-1].values\n",
    "y = dataset.iloc[:, 2].values\n",
    "\n",
    "from sklearn.preprocessing import LabelEncoder\n",
    "labelEncoder_gender = LabelEncoder()\n",
    "X[:,0] = labelEncoder_gender.fit_transform(X[:,0])"
   ]
  },
  {
   "cell_type": "code",
   "execution_count": 5,
   "id": "02c80058",
   "metadata": {},
   "outputs": [
    {
     "data": {
      "text/plain": [
       "array([241.8935632, 162.3104725, 212.7408556, ..., 128.4753188,\n",
       "       163.8524613, 113.6491027])"
      ]
     },
     "execution_count": 5,
     "metadata": {},
     "output_type": "execute_result"
    }
   ],
   "source": [
    "y"
   ]
  },
  {
   "cell_type": "code",
   "execution_count": 6,
   "id": "d8581c62",
   "metadata": {},
   "outputs": [],
   "source": [
    "dataset['Gender'].replace('Female', 0, inplace=True)\n",
    "dataset['Gender'].replace('Male', 1, inplace=True)\n",
    "X = dataset.iloc[:, :-1].values\n",
    "y = dataset.iloc[:, 2].values"
   ]
  },
  {
   "cell_type": "markdown",
   "id": "b9162f33",
   "metadata": {},
   "source": [
    "# Split dataset into training set and test set"
   ]
  },
  {
   "cell_type": "code",
   "execution_count": 7,
   "id": "d07a5256",
   "metadata": {},
   "outputs": [],
   "source": [
    "from sklearn.model_selection import train_test_split\n",
    "X_train, X_test, y_train, y_test = train_test_split(X, y, test_size=0.2, random_state=0)"
   ]
  },
  {
   "cell_type": "markdown",
   "id": "6f41633e",
   "metadata": {},
   "source": [
    "# Fit Regression Model"
   ]
  },
  {
   "cell_type": "code",
   "execution_count": 8,
   "id": "d4e65ef2",
   "metadata": {},
   "outputs": [],
   "source": [
    "from sklearn.linear_model import LinearRegression\n",
    "lin_reg = LinearRegression()\n",
    "model = lin_reg.fit(X_train, y_train)"
   ]
  },
  {
   "cell_type": "code",
   "execution_count": 9,
   "id": "0fc9c572",
   "metadata": {},
   "outputs": [],
   "source": [
    "accuracy = model.score(X_test, y_test)"
   ]
  },
  {
   "cell_type": "code",
   "execution_count": 10,
   "id": "ecb6a5e1",
   "metadata": {},
   "outputs": [
    {
     "name": "stdout",
     "output_type": "stream",
     "text": [
      " Akurasi Model: 90.5288982474689%\n"
     ]
    }
   ],
   "source": [
    "print(f\" Akurasi Model: {accuracy * 100}%\")"
   ]
  },
  {
   "cell_type": "markdown",
   "id": "ad214a07",
   "metadata": {},
   "source": [
    "# Predict test set values"
   ]
  },
  {
   "cell_type": "code",
   "execution_count": 11,
   "id": "b5f1904b",
   "metadata": {},
   "outputs": [],
   "source": [
    "lin_pred = model.predict(X_test)"
   ]
  },
  {
   "cell_type": "markdown",
   "id": "153e58a1",
   "metadata": {},
   "source": [
    "# Model Accuracy"
   ]
  },
  {
   "cell_type": "code",
   "execution_count": 12,
   "id": "35a2c52b",
   "metadata": {},
   "outputs": [
    {
     "name": "stdout",
     "output_type": "stream",
     "text": [
      "R square =  0.905288982474689\n",
      "Mean squared Error =  97.87152217990108\n",
      "Mean absolute Error =  7.955916524719642\n"
     ]
    }
   ],
   "source": [
    "from sklearn import metrics\n",
    "print('R square = ',metrics.r2_score(y_test, lin_pred))\n",
    "print('Mean squared Error = ',metrics.mean_squared_error(y_test, lin_pred))\n",
    "print('Mean absolute Error = ',metrics.mean_absolute_error(y_test, lin_pred))"
   ]
  },
  {
   "cell_type": "markdown",
   "id": "b4238b2e",
   "metadata": {},
   "source": [
    "# Predict my weight"
   ]
  },
  {
   "cell_type": "code",
   "execution_count": 13,
   "id": "955612ef",
   "metadata": {},
   "outputs": [
    {
     "name": "stdout",
     "output_type": "stream",
     "text": [
      "My predict weight =  [197.2481918]\n"
     ]
    }
   ],
   "source": [
    "my_weight_pred = model.predict([[0,74]])\n",
    "print('My predict weight = ', my_weight_pred)"
   ]
  },
  {
   "cell_type": "code",
   "execution_count": 16,
   "id": "1bccf7b9",
   "metadata": {},
   "outputs": [
    {
     "data": {
      "text/plain": [
       "['weight-classification-using-linear-regression.pkl']"
      ]
     },
     "execution_count": 16,
     "metadata": {},
     "output_type": "execute_result"
    }
   ],
   "source": [
    "import joblib\n",
    "joblib.dump((model, labelEncoder_gender), \"weight-classification-using-linear-regression.pkl\")"
   ]
  },
  {
   "cell_type": "code",
   "execution_count": null,
   "id": "e9c04000",
   "metadata": {},
   "outputs": [],
   "source": []
  }
 ],
 "metadata": {
  "kernelspec": {
   "display_name": "Python [conda env:flask] *",
   "language": "python",
   "name": "conda-env-flask-py"
  },
  "language_info": {
   "codemirror_mode": {
    "name": "ipython",
    "version": 3
   },
   "file_extension": ".py",
   "mimetype": "text/x-python",
   "name": "python",
   "nbconvert_exporter": "python",
   "pygments_lexer": "ipython3",
   "version": "3.8.12"
  }
 },
 "nbformat": 4,
 "nbformat_minor": 5
}
