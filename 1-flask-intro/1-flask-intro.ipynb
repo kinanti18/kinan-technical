{
 "cells": [
  {
   "cell_type": "markdown",
   "metadata": {},
   "source": [
    "# Flask Intro"
   ]
  },
  {
   "cell_type": "code",
   "execution_count": 1,
   "metadata": {},
   "outputs": [],
   "source": [
    "import requests\n",
    "from modules.custom_module import get_http_info"
   ]
  },
  {
   "cell_type": "markdown",
   "metadata": {},
   "source": [
    "## Menampilkan Request Header"
   ]
  },
  {
   "cell_type": "code",
   "execution_count": 2,
   "metadata": {},
   "outputs": [
    {
     "name": "stdout",
     "output_type": "stream",
     "text": [
      "{'User-Agent': 'python-requests/2.27.1', 'Accept-Encoding': 'gzip, deflate, br', 'Accept': '*/*', 'Connection': 'keep-alive'}\n"
     ]
    }
   ],
   "source": [
    "r = requests.get(\"http://localhost:5000/\")\n",
    "print(r.request.headers)"
   ]
  },
  {
   "cell_type": "markdown",
   "metadata": {},
   "source": [
    "## Menampilkan Status Code"
   ]
  },
  {
   "cell_type": "code",
   "execution_count": 3,
   "metadata": {},
   "outputs": [
    {
     "name": "stdout",
     "output_type": "stream",
     "text": [
      "200\n"
     ]
    }
   ],
   "source": [
    "print(r.status_code)"
   ]
  },
  {
   "cell_type": "markdown",
   "metadata": {},
   "source": [
    "## Menampilkan Response Header"
   ]
  },
  {
   "cell_type": "code",
   "execution_count": 4,
   "metadata": {},
   "outputs": [
    {
     "name": "stdout",
     "output_type": "stream",
     "text": [
      "{'Content-Type': 'application/json', 'Content-Length': '34', 'Server': 'Werkzeug/2.0.3 Python/3.8.12', 'Date': 'Tue, 05 Apr 2022 02:38:34 GMT'}\n"
     ]
    }
   ],
   "source": [
    "print(r.headers)"
   ]
  },
  {
   "cell_type": "markdown",
   "metadata": {},
   "source": [
    "## Menampilkan Response Body"
   ]
  },
  {
   "cell_type": "code",
   "execution_count": 5,
   "metadata": {},
   "outputs": [
    {
     "name": "stdout",
     "output_type": "stream",
     "text": [
      "{\"message\":\"Belajar Flask Dasar\"}\n",
      "\n"
     ]
    }
   ],
   "source": [
    "print(r.text)"
   ]
  },
  {
   "cell_type": "markdown",
   "metadata": {},
   "source": [
    "## Menampilkan informasi HTTP (Lengkap)"
   ]
  },
  {
   "cell_type": "code",
   "execution_count": 6,
   "metadata": {},
   "outputs": [
    {
     "data": {
      "text/markdown": [
       "# HTTP Message"
      ],
      "text/plain": [
       "<IPython.core.display.Markdown object>"
      ]
     },
     "metadata": {},
     "output_type": "display_data"
    },
    {
     "data": {
      "text/markdown": [
       "## r Headers / Response Message"
      ],
      "text/plain": [
       "<IPython.core.display.Markdown object>"
      ]
     },
     "metadata": {},
     "output_type": "display_data"
    },
    {
     "data": {
      "text/markdown": [
       "**GET** http://localhost:5000/ **200**"
      ],
      "text/plain": [
       "<IPython.core.display.Markdown object>"
      ]
     },
     "metadata": {},
     "output_type": "display_data"
    },
    {
     "data": {
      "text/html": [
       "<style type=\"text/css\">\n",
       "</style>\n",
       "<table id=\"T_74caf\">\n",
       "  <thead>\n",
       "  </thead>\n",
       "  <tbody>\n",
       "    <tr>\n",
       "      <th id=\"T_74caf_level0_row0\" class=\"row_heading level0 row0\" >User-Agent</th>\n",
       "      <td id=\"T_74caf_row0_col0\" class=\"data row0 col0\" >python-requests/2.27.1</td>\n",
       "    </tr>\n",
       "    <tr>\n",
       "      <th id=\"T_74caf_level0_row1\" class=\"row_heading level0 row1\" >Accept-Encoding</th>\n",
       "      <td id=\"T_74caf_row1_col0\" class=\"data row1 col0\" >gzip, deflate, br</td>\n",
       "    </tr>\n",
       "    <tr>\n",
       "      <th id=\"T_74caf_level0_row2\" class=\"row_heading level0 row2\" >Accept</th>\n",
       "      <td id=\"T_74caf_row2_col0\" class=\"data row2 col0\" >*/*</td>\n",
       "    </tr>\n",
       "    <tr>\n",
       "      <th id=\"T_74caf_level0_row3\" class=\"row_heading level0 row3\" >Connection</th>\n",
       "      <td id=\"T_74caf_row3_col0\" class=\"data row3 col0\" >keep-alive</td>\n",
       "    </tr>\n",
       "  </tbody>\n",
       "</table>\n"
      ],
      "text/plain": [
       "<pandas.io.formats.style.Styler at 0x297857ec280>"
      ]
     },
     "metadata": {},
     "output_type": "display_data"
    },
    {
     "data": {
      "text/markdown": [
       "<hr style='border:2px solid grey'>"
      ],
      "text/plain": [
       "<IPython.core.display.Markdown object>"
      ]
     },
     "metadata": {},
     "output_type": "display_data"
    },
    {
     "data": {
      "text/markdown": [
       "## Response Headers / Response Message"
      ],
      "text/plain": [
       "<IPython.core.display.Markdown object>"
      ]
     },
     "metadata": {},
     "output_type": "display_data"
    },
    {
     "data": {
      "text/html": [
       "<style type=\"text/css\">\n",
       "</style>\n",
       "<table id=\"T_69d3b\">\n",
       "  <thead>\n",
       "  </thead>\n",
       "  <tbody>\n",
       "    <tr>\n",
       "      <th id=\"T_69d3b_level0_row0\" class=\"row_heading level0 row0\" >Content-Type</th>\n",
       "      <td id=\"T_69d3b_row0_col0\" class=\"data row0 col0\" >application/json</td>\n",
       "    </tr>\n",
       "    <tr>\n",
       "      <th id=\"T_69d3b_level0_row1\" class=\"row_heading level0 row1\" >Content-Length</th>\n",
       "      <td id=\"T_69d3b_row1_col0\" class=\"data row1 col0\" >34</td>\n",
       "    </tr>\n",
       "    <tr>\n",
       "      <th id=\"T_69d3b_level0_row2\" class=\"row_heading level0 row2\" >Server</th>\n",
       "      <td id=\"T_69d3b_row2_col0\" class=\"data row2 col0\" >Werkzeug/2.0.3 Python/3.8.12</td>\n",
       "    </tr>\n",
       "    <tr>\n",
       "      <th id=\"T_69d3b_level0_row3\" class=\"row_heading level0 row3\" >Date</th>\n",
       "      <td id=\"T_69d3b_row3_col0\" class=\"data row3 col0\" >Tue, 05 Apr 2022 02:38:34 GMT</td>\n",
       "    </tr>\n",
       "  </tbody>\n",
       "</table>\n"
      ],
      "text/plain": [
       "<pandas.io.formats.style.Styler at 0x297857ec280>"
      ]
     },
     "metadata": {},
     "output_type": "display_data"
    },
    {
     "data": {
      "text/markdown": [
       "### Response Body"
      ],
      "text/plain": [
       "<IPython.core.display.Markdown object>"
      ]
     },
     "metadata": {},
     "output_type": "display_data"
    },
    {
     "data": {
      "text/plain": [
       "{'message': 'Belajar Flask Dasar'}"
      ]
     },
     "metadata": {},
     "output_type": "display_data"
    }
   ],
   "source": [
    "get_http_info(r)"
   ]
  },
  {
   "cell_type": "code",
   "execution_count": null,
   "metadata": {},
   "outputs": [],
   "source": []
  }
 ],
 "metadata": {
  "interpreter": {
   "hash": "844011794db555830353d897a72146bd8855c8250ccc95129391fb92e265f0e7"
  },
  "kernelspec": {
   "display_name": "Python 3 (ipykernel)",
   "language": "python",
   "name": "python3"
  },
  "language_info": {
   "codemirror_mode": {
    "name": "ipython",
    "version": 3
   },
   "file_extension": ".py",
   "mimetype": "text/x-python",
   "name": "python",
   "nbconvert_exporter": "python",
   "pygments_lexer": "ipython3",
   "version": "3.8.12"
  }
 },
 "nbformat": 4,
 "nbformat_minor": 2
}
